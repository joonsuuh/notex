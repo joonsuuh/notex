{
 "cells": [
  {
   "cell_type": "code",
   "execution_count": null,
   "metadata": {},
   "outputs": [],
   "source": [
    "import numpy as np\n",
    "import scipy as sp\n",
    "import matplotlib.pyplot as plt\n",
    "import matplotlib as mpl\n",
    "import scienceplots\n",
    "\n",
    "# Science plot package + Dracula theme\n",
    "plt.style.use(['science', 'dark_background'])\n",
    "plt.rcParams['axes.facecolor'] = '#282a36'\n",
    "plt.rcParams['figure.facecolor'] = '#282a36'\n",
    "colorcycle = ['#8be9fd', '#ff79c6', '#50fa7b', '#bd93f9', '#ffb86c', '#ff5555', '#f1fa8c', \n",
    "'#6272a4']\n",
    "plt.rcParams['axes.prop_cycle'] = mpl.cycler(color=colorcycle)\n",
    "white = '#f8f8f2' # foreground\n",
    "\n",
    "# change dpi\n",
    "plt.rcParams['figure.dpi'] = 1024"
   ]
  },
  {
   "cell_type": "markdown",
   "metadata": {},
   "source": [
    "## Problem 2\n",
    "\n"
   ]
  },
  {
   "cell_type": "code",
   "execution_count": null,
   "metadata": {},
   "outputs": [],
   "source": []
  }
 ],
 "metadata": {
  "language_info": {
   "name": "python"
  }
 },
 "nbformat": 4,
 "nbformat_minor": 2
}
