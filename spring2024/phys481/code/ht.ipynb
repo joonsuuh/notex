{
 "cells": [
  {
   "cell_type": "code",
   "execution_count": 2,
   "metadata": {},
   "outputs": [],
   "source": [
    "import numpy as np\n",
    "import scipy as sp\n",
    "import matplotlib.pyplot as plt\n",
    "import matplotlib as mpl\n",
    "import scienceplots\n",
    "\n",
    "# Science plot package + Dracula theme\n",
    "plt.style.use(['science', 'dark_background'])\n",
    "plt.rcParams['axes.facecolor'] = '#282a36'\n",
    "plt.rcParams['figure.facecolor'] = '#282a36'\n",
    "colorcycle = ['#8be9fd', '#ff79c6', '#50fa7b', '#bd93f9', '#ffb86c', '#ff5555', '#f1fa8c', \n",
    "'#6272a4']\n",
    "plt.rcParams['axes.prop_cycle'] = mpl.cycler(color=colorcycle)\n",
    "white = '#f8f8f2' # foreground\n",
    "\n",
    "# change dpi\n",
    "plt.rcParams['figure.dpi'] = 1024"
   ]
  },
  {
   "cell_type": "code",
   "execution_count": 9,
   "metadata": {},
   "outputs": [
    {
     "ename": "KeyboardInterrupt",
     "evalue": "",
     "output_type": "error",
     "traceback": [
      "\u001b[0;31m---------------------------------------------------------------------------\u001b[0m",
      "\u001b[0;31mKeyboardInterrupt\u001b[0m                         Traceback (most recent call last)",
      "Cell \u001b[0;32mIn[9], line 10\u001b[0m\n\u001b[1;32m      8\u001b[0m Bob \u001b[38;5;241m=\u001b[39m \u001b[38;5;241m0\u001b[39m\n\u001b[1;32m      9\u001b[0m \u001b[38;5;28;01mfor\u001b[39;00m i, val \u001b[38;5;129;01min\u001b[39;00m \u001b[38;5;28menumerate\u001b[39m(table):\n\u001b[0;32m---> 10\u001b[0m     \u001b[38;5;28;01mwhile\u001b[39;00m i \u001b[38;5;241m>\u001b[39m \u001b[38;5;241m0\u001b[39m:\n\u001b[1;32m     11\u001b[0m         \u001b[38;5;28;01mif\u001b[39;00m val \u001b[38;5;241m==\u001b[39m \u001b[38;5;124m\"\u001b[39m\u001b[38;5;124mH\u001b[39m\u001b[38;5;124m\"\u001b[39m \u001b[38;5;129;01mand\u001b[39;00m table[i \u001b[38;5;241m-\u001b[39m \u001b[38;5;241m1\u001b[39m] \u001b[38;5;241m==\u001b[39m \u001b[38;5;124m\"\u001b[39m\u001b[38;5;124mH\u001b[39m\u001b[38;5;124m\"\u001b[39m:\n\u001b[1;32m     12\u001b[0m             Alice \u001b[38;5;241m+\u001b[39m\u001b[38;5;241m=\u001b[39m \u001b[38;5;241m1\u001b[39m\n",
      "\u001b[0;31mKeyboardInterrupt\u001b[0m: "
     ]
    }
   ],
   "source": [
    "table = \"\"\n",
    "for i in range(5):\n",
    "    if np.random.rand() > 0.5:\n",
    "        table += \"H\"\n",
    "    else:\n",
    "        table += \"T\"\n",
    "Alice = 0\n",
    "Bob = 0\n",
    "for i, val in enumerate(table):\n",
    "    while i > 0:\n",
    "        if val == \"H\" and table[i - 1] == \"H\":\n",
    "            Alice += 1\n",
    "        if val == \"T\" and table[i - 1] == \"H\":\n",
    "            Bob += 1\n",
    "print(table)\n",
    "print(\"Alice: \", Alice)\n",
    "print(\"Bob: \", Bob)"
   ]
  }
 ],
 "metadata": {
  "kernelspec": {
   "display_name": "Python 3",
   "language": "python",
   "name": "python3"
  },
  "language_info": {
   "codemirror_mode": {
    "name": "ipython",
    "version": 3
   },
   "file_extension": ".py",
   "mimetype": "text/x-python",
   "name": "python",
   "nbconvert_exporter": "python",
   "pygments_lexer": "ipython3",
   "version": "3.11.7"
  }
 },
 "nbformat": 4,
 "nbformat_minor": 2
}
